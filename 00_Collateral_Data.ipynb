{
 "cells": [
  {
   "cell_type": "markdown",
   "metadata": {},
   "source": [
    "# Collateral Data\n",
    "#### Airport names and IATA from Wikipedia\n",
    "Wikipedia has a list of US airports that we can use. Note that this code may break whenever the wikipedia page changes. In production consider more reliable data sources."
   ]
  },
  {
   "cell_type": "code",
   "execution_count": 107,
   "metadata": {},
   "outputs": [],
   "source": [
    "from requests import get\n",
    "from bs4 import BeautifulSoup\n",
    "import pandas as pd"
   ]
  },
  {
   "cell_type": "code",
   "execution_count": 108,
   "metadata": {},
   "outputs": [],
   "source": [
    "url='https://en.wikipedia.org/wiki/List_of_airports_in_the_United_States'"
   ]
  },
  {
   "cell_type": "code",
   "execution_count": 109,
   "metadata": {},
   "outputs": [],
   "source": [
    "response = get(url)\n",
    "html_soup = BeautifulSoup(response.text, 'html.parser')"
   ]
  },
  {
   "cell_type": "code",
   "execution_count": 110,
   "metadata": {},
   "outputs": [],
   "source": [
    "table = html_soup.find_all('table')[2]"
   ]
  },
  {
   "cell_type": "code",
   "execution_count": 111,
   "metadata": {},
   "outputs": [],
   "source": [
    "all_rows = table.find_all('tr')"
   ]
  },
  {
   "cell_type": "code",
   "execution_count": 112,
   "metadata": {},
   "outputs": [],
   "source": [
    "data = [ \n",
    "    [\n",
    "    str(re.sub(r'[^\\x00-\\x7f]',r' ', r.find_all('td')[4].text.strip())),     \n",
    "    str(r.find_all('td')[2].text.strip())\n",
    "    ] \n",
    "    for r in all_rows \n",
    "        if r.find_all('th') == [] and \n",
    "        str(r.find_all('td')[2].text.strip()) != '' and\n",
    "        r.attrs.get('style') == None]"
   ]
  },
  {
   "cell_type": "code",
   "execution_count": 113,
   "metadata": {},
   "outputs": [
    {
     "data": {
      "text/plain": [
       "381"
      ]
     },
     "execution_count": 113,
     "metadata": {},
     "output_type": "execute_result"
    }
   ],
   "source": [
    "len(data)"
   ]
  },
  {
   "cell_type": "code",
   "execution_count": 114,
   "metadata": {},
   "outputs": [],
   "source": [
    "df = pd.DataFrame(data, columns=[\"Name\", \"IATA\"])"
   ]
  },
  {
   "cell_type": "code",
   "execution_count": 115,
   "metadata": {},
   "outputs": [
    {
     "data": {
      "text/html": [
       "<div>\n",
       "<style scoped>\n",
       "    .dataframe tbody tr th:only-of-type {\n",
       "        vertical-align: middle;\n",
       "    }\n",
       "\n",
       "    .dataframe tbody tr th {\n",
       "        vertical-align: top;\n",
       "    }\n",
       "\n",
       "    .dataframe thead th {\n",
       "        text-align: right;\n",
       "    }\n",
       "</style>\n",
       "<table border=\"1\" class=\"dataframe\">\n",
       "  <thead>\n",
       "    <tr style=\"text-align: right;\">\n",
       "      <th></th>\n",
       "      <th>Name</th>\n",
       "      <th>IATA</th>\n",
       "    </tr>\n",
       "  </thead>\n",
       "  <tbody>\n",
       "    <tr>\n",
       "      <th>0</th>\n",
       "      <td>Birmingham Shuttlesworth International Airport</td>\n",
       "      <td>BHM</td>\n",
       "    </tr>\n",
       "    <tr>\n",
       "      <th>1</th>\n",
       "      <td>Dothan Regional Airport</td>\n",
       "      <td>DHN</td>\n",
       "    </tr>\n",
       "    <tr>\n",
       "      <th>2</th>\n",
       "      <td>Huntsville International Airport (Carl T. Jone...</td>\n",
       "      <td>HSV</td>\n",
       "    </tr>\n",
       "    <tr>\n",
       "      <th>3</th>\n",
       "      <td>Mobile Regional Airport</td>\n",
       "      <td>MOB</td>\n",
       "    </tr>\n",
       "    <tr>\n",
       "      <th>4</th>\n",
       "      <td>Montgomery Regional Airport (Dannelly Field)</td>\n",
       "      <td>MGM</td>\n",
       "    </tr>\n",
       "    <tr>\n",
       "      <th>5</th>\n",
       "      <td>Merrill Field</td>\n",
       "      <td>MRI</td>\n",
       "    </tr>\n",
       "    <tr>\n",
       "      <th>6</th>\n",
       "      <td>Ted Stevens Anchorage International Airport</td>\n",
       "      <td>ANC</td>\n",
       "    </tr>\n",
       "    <tr>\n",
       "      <th>7</th>\n",
       "      <td>Aniak Airport</td>\n",
       "      <td>ANI</td>\n",
       "    </tr>\n",
       "    <tr>\n",
       "      <th>8</th>\n",
       "      <td>Wiley Post Will Rogers Memorial Airport</td>\n",
       "      <td>BRW</td>\n",
       "    </tr>\n",
       "    <tr>\n",
       "      <th>9</th>\n",
       "      <td>Bethel Airport (also see Bethel Seaplane Base)</td>\n",
       "      <td>BET</td>\n",
       "    </tr>\n",
       "    <tr>\n",
       "      <th>10</th>\n",
       "      <td>Merle K. (Mudhole) Smith Airport</td>\n",
       "      <td>CDV</td>\n",
       "    </tr>\n",
       "    <tr>\n",
       "      <th>11</th>\n",
       "      <td>Deadhorse Airport (Prudhoe Bay Airport)</td>\n",
       "      <td>SCC</td>\n",
       "    </tr>\n",
       "    <tr>\n",
       "      <th>12</th>\n",
       "      <td>Dillingham Airport</td>\n",
       "      <td>DLG</td>\n",
       "    </tr>\n",
       "    <tr>\n",
       "      <th>13</th>\n",
       "      <td>Fairbanks International Airport</td>\n",
       "      <td>FAI</td>\n",
       "    </tr>\n",
       "    <tr>\n",
       "      <th>14</th>\n",
       "      <td>Edward G. Pitka Sr. Airport</td>\n",
       "      <td>GAL</td>\n",
       "    </tr>\n",
       "    <tr>\n",
       "      <th>15</th>\n",
       "      <td>Homer Airport</td>\n",
       "      <td>HOM</td>\n",
       "    </tr>\n",
       "    <tr>\n",
       "      <th>16</th>\n",
       "      <td>Juneau International Airport</td>\n",
       "      <td>JNU</td>\n",
       "    </tr>\n",
       "    <tr>\n",
       "      <th>17</th>\n",
       "      <td>Kenai Municipal Airport</td>\n",
       "      <td>ENA</td>\n",
       "    </tr>\n",
       "    <tr>\n",
       "      <th>18</th>\n",
       "      <td>Ketchikan International Airport</td>\n",
       "      <td>KTN</td>\n",
       "    </tr>\n",
       "    <tr>\n",
       "      <th>19</th>\n",
       "      <td>King Salmon Airport</td>\n",
       "      <td>AKN</td>\n",
       "    </tr>\n",
       "  </tbody>\n",
       "</table>\n",
       "</div>"
      ],
      "text/plain": [
       "                                                 Name IATA\n",
       "0      Birmingham Shuttlesworth International Airport  BHM\n",
       "1                             Dothan Regional Airport  DHN\n",
       "2   Huntsville International Airport (Carl T. Jone...  HSV\n",
       "3                             Mobile Regional Airport  MOB\n",
       "4        Montgomery Regional Airport (Dannelly Field)  MGM\n",
       "5                                       Merrill Field  MRI\n",
       "6         Ted Stevens Anchorage International Airport  ANC\n",
       "7                                       Aniak Airport  ANI\n",
       "8             Wiley Post Will Rogers Memorial Airport  BRW\n",
       "9      Bethel Airport (also see Bethel Seaplane Base)  BET\n",
       "10                   Merle K. (Mudhole) Smith Airport  CDV\n",
       "11            Deadhorse Airport (Prudhoe Bay Airport)  SCC\n",
       "12                                 Dillingham Airport  DLG\n",
       "13                    Fairbanks International Airport  FAI\n",
       "14                        Edward G. Pitka Sr. Airport  GAL\n",
       "15                                      Homer Airport  HOM\n",
       "16                       Juneau International Airport  JNU\n",
       "17                            Kenai Municipal Airport  ENA\n",
       "18                    Ketchikan International Airport  KTN\n",
       "19                                King Salmon Airport  AKN"
      ]
     },
     "execution_count": 115,
     "metadata": {},
     "output_type": "execute_result"
    }
   ],
   "source": [
    "df[:20]"
   ]
  },
  {
   "cell_type": "code",
   "execution_count": null,
   "metadata": {},
   "outputs": [],
   "source": []
  }
 ],
 "metadata": {
  "kernelspec": {
   "display_name": "Python 2",
   "language": "python",
   "name": "python2"
  },
  "language_info": {
   "name": ""
  }
 },
 "nbformat": 4,
 "nbformat_minor": 2
}
