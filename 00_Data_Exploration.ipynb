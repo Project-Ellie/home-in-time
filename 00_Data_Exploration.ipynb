{
 "cells": [
  {
   "cell_type": "code",
   "execution_count": 1,
   "metadata": {},
   "outputs": [],
   "source": [
    "from __future__ import division\n",
    "from __future__ import print_function\n",
    "from __future__ import absolute_import"
   ]
  },
  {
   "cell_type": "code",
   "execution_count": 2,
   "metadata": {},
   "outputs": [],
   "source": [
    "%matplotlib inline\n",
    "%load_ext google.cloud.bigquery"
   ]
  },
  {
   "cell_type": "markdown",
   "metadata": {},
   "source": [
    "---\n",
    "### Using SQL Windowing\n",
    "\n",
    "This is a nice way to take stats from events prior to the take off into consideration: Keep track of average and maximum departure delay in the hour before take off.\n",
    "\n",
    "Certainly, these stats will only avaible at take-off time, but that may be come by using estimates using previous days, months, or even years."
   ]
  },
  {
   "cell_type": "code",
   "execution_count": 3,
   "metadata": {},
   "outputs": [
    {
     "data": {
      "text/html": [
       "<div>\n",
       "<style scoped>\n",
       "    .dataframe tbody tr th:only-of-type {\n",
       "        vertical-align: middle;\n",
       "    }\n",
       "\n",
       "    .dataframe tbody tr th {\n",
       "        vertical-align: top;\n",
       "    }\n",
       "\n",
       "    .dataframe thead th {\n",
       "        text-align: right;\n",
       "    }\n",
       "</style>\n",
       "<table border=\"1\" class=\"dataframe\">\n",
       "  <thead>\n",
       "    <tr style=\"text-align: right;\">\n",
       "      <th></th>\n",
       "      <th>AIRLINE</th>\n",
       "      <th>dep_t</th>\n",
       "      <th>dep_delay</th>\n",
       "      <th>avg_dep_delay_hour_before</th>\n",
       "      <th>max_dep_delay_hour_before</th>\n",
       "    </tr>\n",
       "  </thead>\n",
       "  <tbody>\n",
       "    <tr>\n",
       "      <th>0</th>\n",
       "      <td>US</td>\n",
       "      <td>610</td>\n",
       "      <td>-7.0</td>\n",
       "      <td>-7.000000</td>\n",
       "      <td>-7.0</td>\n",
       "    </tr>\n",
       "    <tr>\n",
       "      <th>1</th>\n",
       "      <td>DL</td>\n",
       "      <td>620</td>\n",
       "      <td>2.0</td>\n",
       "      <td>14.000000</td>\n",
       "      <td>61.0</td>\n",
       "    </tr>\n",
       "    <tr>\n",
       "      <th>2</th>\n",
       "      <td>DL</td>\n",
       "      <td>620</td>\n",
       "      <td>0.0</td>\n",
       "      <td>14.000000</td>\n",
       "      <td>61.0</td>\n",
       "    </tr>\n",
       "    <tr>\n",
       "      <th>3</th>\n",
       "      <td>DL</td>\n",
       "      <td>620</td>\n",
       "      <td>61.0</td>\n",
       "      <td>14.000000</td>\n",
       "      <td>61.0</td>\n",
       "    </tr>\n",
       "    <tr>\n",
       "      <th>4</th>\n",
       "      <td>UA</td>\n",
       "      <td>627</td>\n",
       "      <td>-8.0</td>\n",
       "      <td>9.600000</td>\n",
       "      <td>61.0</td>\n",
       "    </tr>\n",
       "    <tr>\n",
       "      <th>5</th>\n",
       "      <td>DL</td>\n",
       "      <td>630</td>\n",
       "      <td>4.0</td>\n",
       "      <td>6.857143</td>\n",
       "      <td>61.0</td>\n",
       "    </tr>\n",
       "    <tr>\n",
       "      <th>6</th>\n",
       "      <td>DL</td>\n",
       "      <td>630</td>\n",
       "      <td>-4.0</td>\n",
       "      <td>6.857143</td>\n",
       "      <td>61.0</td>\n",
       "    </tr>\n",
       "    <tr>\n",
       "      <th>7</th>\n",
       "      <td>DL</td>\n",
       "      <td>635</td>\n",
       "      <td>-3.0</td>\n",
       "      <td>4.555556</td>\n",
       "      <td>61.0</td>\n",
       "    </tr>\n",
       "    <tr>\n",
       "      <th>8</th>\n",
       "      <td>DL</td>\n",
       "      <td>635</td>\n",
       "      <td>-4.0</td>\n",
       "      <td>4.555556</td>\n",
       "      <td>61.0</td>\n",
       "    </tr>\n",
       "    <tr>\n",
       "      <th>9</th>\n",
       "      <td>DL</td>\n",
       "      <td>640</td>\n",
       "      <td>-9.0</td>\n",
       "      <td>3.200000</td>\n",
       "      <td>61.0</td>\n",
       "    </tr>\n",
       "    <tr>\n",
       "      <th>10</th>\n",
       "      <td>DL</td>\n",
       "      <td>645</td>\n",
       "      <td>0.0</td>\n",
       "      <td>2.416667</td>\n",
       "      <td>61.0</td>\n",
       "    </tr>\n",
       "    <tr>\n",
       "      <th>11</th>\n",
       "      <td>DL</td>\n",
       "      <td>645</td>\n",
       "      <td>-3.0</td>\n",
       "      <td>2.416667</td>\n",
       "      <td>61.0</td>\n",
       "    </tr>\n",
       "    <tr>\n",
       "      <th>12</th>\n",
       "      <td>DL</td>\n",
       "      <td>650</td>\n",
       "      <td>17.0</td>\n",
       "      <td>2.200000</td>\n",
       "      <td>61.0</td>\n",
       "    </tr>\n",
       "    <tr>\n",
       "      <th>13</th>\n",
       "      <td>US</td>\n",
       "      <td>650</td>\n",
       "      <td>-4.0</td>\n",
       "      <td>2.200000</td>\n",
       "      <td>61.0</td>\n",
       "    </tr>\n",
       "    <tr>\n",
       "      <th>14</th>\n",
       "      <td>DL</td>\n",
       "      <td>650</td>\n",
       "      <td>-9.0</td>\n",
       "      <td>2.200000</td>\n",
       "      <td>61.0</td>\n",
       "    </tr>\n",
       "    <tr>\n",
       "      <th>15</th>\n",
       "      <td>AA</td>\n",
       "      <td>700</td>\n",
       "      <td>-5.0</td>\n",
       "      <td>1.411765</td>\n",
       "      <td>61.0</td>\n",
       "    </tr>\n",
       "    <tr>\n",
       "      <th>16</th>\n",
       "      <td>CO</td>\n",
       "      <td>700</td>\n",
       "      <td>-4.0</td>\n",
       "      <td>1.411765</td>\n",
       "      <td>61.0</td>\n",
       "    </tr>\n",
       "    <tr>\n",
       "      <th>17</th>\n",
       "      <td>AA</td>\n",
       "      <td>710</td>\n",
       "      <td>-5.0</td>\n",
       "      <td>1.055556</td>\n",
       "      <td>61.0</td>\n",
       "    </tr>\n",
       "    <tr>\n",
       "      <th>18</th>\n",
       "      <td>NW</td>\n",
       "      <td>715</td>\n",
       "      <td>-3.0</td>\n",
       "      <td>1.277778</td>\n",
       "      <td>61.0</td>\n",
       "    </tr>\n",
       "    <tr>\n",
       "      <th>19</th>\n",
       "      <td>UA</td>\n",
       "      <td>725</td>\n",
       "      <td>13.0</td>\n",
       "      <td>-1.687500</td>\n",
       "      <td>17.0</td>\n",
       "    </tr>\n",
       "  </tbody>\n",
       "</table>\n",
       "</div>"
      ],
      "text/plain": [
       "   AIRLINE  dep_t  dep_delay  avg_dep_delay_hour_before  \\\n",
       "0       US    610       -7.0                  -7.000000   \n",
       "1       DL    620        2.0                  14.000000   \n",
       "2       DL    620        0.0                  14.000000   \n",
       "3       DL    620       61.0                  14.000000   \n",
       "4       UA    627       -8.0                   9.600000   \n",
       "5       DL    630        4.0                   6.857143   \n",
       "6       DL    630       -4.0                   6.857143   \n",
       "7       DL    635       -3.0                   4.555556   \n",
       "8       DL    635       -4.0                   4.555556   \n",
       "9       DL    640       -9.0                   3.200000   \n",
       "10      DL    645        0.0                   2.416667   \n",
       "11      DL    645       -3.0                   2.416667   \n",
       "12      DL    650       17.0                   2.200000   \n",
       "13      US    650       -4.0                   2.200000   \n",
       "14      DL    650       -9.0                   2.200000   \n",
       "15      AA    700       -5.0                   1.411765   \n",
       "16      CO    700       -4.0                   1.411765   \n",
       "17      AA    710       -5.0                   1.055556   \n",
       "18      NW    715       -3.0                   1.277778   \n",
       "19      UA    725       13.0                  -1.687500   \n",
       "\n",
       "    max_dep_delay_hour_before  \n",
       "0                        -7.0  \n",
       "1                        61.0  \n",
       "2                        61.0  \n",
       "3                        61.0  \n",
       "4                        61.0  \n",
       "5                        61.0  \n",
       "6                        61.0  \n",
       "7                        61.0  \n",
       "8                        61.0  \n",
       "9                        61.0  \n",
       "10                       61.0  \n",
       "11                       61.0  \n",
       "12                       61.0  \n",
       "13                       61.0  \n",
       "14                       61.0  \n",
       "15                       61.0  \n",
       "16                       61.0  \n",
       "17                       61.0  \n",
       "18                       61.0  \n",
       "19                       17.0  "
      ]
     },
     "execution_count": 3,
     "metadata": {},
     "output_type": "execute_result"
    }
   ],
   "source": [
    "%%bigquery window_stats\n",
    "SELECT \n",
    "  AIRLINE, dep_t, dep_delay,\n",
    "  avg(dep_delay) over ( order by dep_t range between 100 preceding and current row) as avg_dep_delay_hour_before,\n",
    "  max(dep_delay) over ( order by dep_t range between 100 preceding and current row) as max_dep_delay_hour_before\n",
    "FROM \n",
    "  `going-tfx.examples.ATL_JUNE_SIGNATURE` \n",
    "where \n",
    "  year=2002 and day=1\n",
    "order by dep_t\n",
    "limit 20"
   ]
  },
  {
   "cell_type": "markdown",
   "metadata": {},
   "source": [
    "---\n",
    "#### Standard statistics\n",
    "Study correlations by performing the typical dimension statistics"
   ]
  },
  {
   "cell_type": "code",
   "execution_count": 4,
   "metadata": {},
   "outputs": [],
   "source": [
    "STATEMENT = \"\"\"\n",
    "with hodded as \n",
    "(select \n",
    "    YEAR, MONTH, DEP_DOW, AIRLINE,\n",
    "    cast(FLOOR(DEP_T/100) as int64) as HOD, \n",
    "    AVG(DEP_DELAY) as avg_dep_delay,\n",
    "    MAX(DEP_DELAY) as max_dep_delay\n",
    "from \n",
    "    `examples.ATL_JUNE_SIGNATURE` \n",
    "group by\n",
    "    YEAR, MONTH, DEP_DOW, HOD, AIRLINE\n",
    ")\n",
    "select \n",
    "    {0}, \n",
    "    AVG(avg_dep_delay) as avg_dep_delay, \n",
    "    MAX(max_dep_delay) as max_dep_delay\n",
    "from \n",
    "    hodded\n",
    "    {1}\n",
    "group by \n",
    "    {0}\n",
    "order by \n",
    "    {0}\"\"\"\n",
    "\n",
    "import google.datalab.bigquery as dlbq\n",
    "def flstats (by, **kwargs):\n",
    "    \"\"\"\n",
    "        kwargs: airline=None, hod=None, month=None, year=None, dep_dow=None\n",
    "    \"\"\"\n",
    "    def enc(value):\n",
    "        if type(value) == int:\n",
    "            return value\n",
    "        elif type(value) == str:\n",
    "            return \"'%s'\" % value    \n",
    "\n",
    "    def where_clause(**as_dict):\n",
    "        clause = \" AND \".join([ \"%s=%s\"% (key.upper(), enc(as_dict[key])) for key in as_dict.keys()])    \n",
    "        return \"WHERE \" + clause if len(as_dict) > 0 else \"\"\n",
    "    \n",
    "    where = where_clause(**kwargs)\n",
    "    qstring = STATEMENT.format(by, where_clause(**kwargs))\n",
    "    query = dlbq.Query(qstring)\n",
    "    return query.execute().result().to_dataframe()"
   ]
  },
  {
   "cell_type": "code",
   "execution_count": 5,
   "metadata": {},
   "outputs": [],
   "source": [
    "def disp_stats(by, **kwargs):\n",
    "    res = flstats(by, **kwargs)\n",
    "    res.plot.bar(x=by, y='max_dep_delay')\n",
    "    res.plot.bar(x=by, y='avg_dep_delay')  "
   ]
  },
  {
   "cell_type": "code",
   "execution_count": 7,
   "metadata": {},
   "outputs": [
    {
     "data": {
      "image/png": "[encoded data removed]",
      "text/plain": [
       "<Figure size 432x288 with 1 Axes>"
      ]
     },
     "metadata": {
      "needs_background": "light"
     },
     "output_type": "display_data"
    },
    {
     "data": {
      "image/png": "[encoded data removed]",
      "text/plain": [
       "<Figure size 432x288 with 1 Axes>"
      ]
     },
     "metadata": {
      "needs_background": "light"
     },
     "output_type": "display_data"
    }
   ],
   "source": [
    "disp_stats('DEP_DOW', airline='DL', year=2010)"
   ]
  },
  {
   "cell_type": "code",
   "execution_count": 108,
   "metadata": {},
   "outputs": [],
   "source": [
    "stats = dlbq.Query(\"\"\"\n",
    "select \n",
    "    YEAR, MONTH, DEP_DOW, AIRLINE,\n",
    "    cast(FLOOR(DEP_T/100) as int64) as HOD, \n",
    "    AVG(DEP_DELAY) as avg_dep_delay,\n",
    "    MAX(DEP_DELAY) as max_dep_delay\n",
    "from \n",
    "    `examples.ATL_JUNE_SIGNATURE` \n",
    "group by\n",
    "    YEAR, MONTH, DEP_DOW, HOD, AIRLINE\n",
    "\"\"\").execute().result().to_dataframe()"
   ]
  },
  {
   "cell_type": "code",
   "execution_count": 143,
   "metadata": {},
   "outputs": [
    {
     "data": {
      "image/png": "[encoded data removed]",
      "text/plain": [
       "<Figure size 432x288 with 1 Axes>"
      ]
     },
     "metadata": {
      "needs_background": "light"
     },
     "output_type": "display_data"
    }
   ],
   "source": [
    "import pandas as pd\n",
    "import numpy as np\n",
    "filtered= stats[stats['DEP_DOW']==2]\n",
    "pv = pd.pivot_table(filtered, index=['HOD'], values=['avg_dep_delay'], aggfunc=[np.mean], fill_value=0)\n",
    "pv.plot.bar();"
   ]
  },
  {
   "cell_type": "code",
   "execution_count": 8,
   "metadata": {},
   "outputs": [],
   "source": [
    "airlines = dlbq.Query(\"\"\"\n",
    "select \n",
    "    airline, count(*) as count\n",
    "from \n",
    "    examples.ATL_JUNE_SIGNATURE\n",
    "group by airline\n",
    "\"\"\").execute().result().to_dataframe()"
   ]
  },
  {
   "cell_type": "code",
   "execution_count": 9,
   "metadata": {},
   "outputs": [
    {
     "name": "stdout",
     "output_type": "stream",
     "text": [
      "{'AA': 5246, 'OO': 1658, 'DL': 135329, 'CO': 3203, 'DH': 298, 'OH': 5472, 'YV': 806, 'FL': 52549, 'HP': 597, '9E': 2920, 'AS': 60, 'US': 2881, 'XE': 1912, 'B6': 90, 'MQ': 364, 'F9': 656, 'EV': 81626, 'UA': 791, 'NW': 1871}\n"
     ]
    }
   ],
   "source": [
    "print({ d['airline']: d['count'] for d in airlines.to_dict(orient='records')})"
   ]
  },
  {
   "cell_type": "code",
   "execution_count": 3,
   "metadata": {},
   "outputs": [],
   "source": [
    "import google.datalab.bigquery as dlbq\n",
    "flights = dlbq.Query(\"Select * from examples.ATL_JUNE_SIGNATURE\").execute().result().to_dataframe()"
   ]
  },
  {
   "cell_type": "code",
   "execution_count": 4,
   "metadata": {},
   "outputs": [
    {
     "data": {
      "text/plain": [
       "298329"
      ]
     },
     "execution_count": 4,
     "metadata": {},
     "output_type": "execute_result"
    }
   ],
   "source": [
    "len(flights)"
   ]
  },
  {
   "cell_type": "code",
   "execution_count": 14,
   "metadata": {},
   "outputs": [
    {
     "data": {
      "text/html": [
       "<div>\n",
       "<style scoped>\n",
       "    .dataframe tbody tr th:only-of-type {\n",
       "        vertical-align: middle;\n",
       "    }\n",
       "\n",
       "    .dataframe tbody tr th {\n",
       "        vertical-align: top;\n",
       "    }\n",
       "\n",
       "    .dataframe thead th {\n",
       "        text-align: right;\n",
       "    }\n",
       "</style>\n",
       "<table border=\"1\" class=\"dataframe\">\n",
       "  <thead>\n",
       "    <tr style=\"text-align: right;\">\n",
       "      <th></th>\n",
       "      <th>DATE</th>\n",
       "      <th>YEAR</th>\n",
       "      <th>MONTH</th>\n",
       "      <th>DAY</th>\n",
       "      <th>DEP_DOW</th>\n",
       "      <th>AIRLINE_NAME</th>\n",
       "      <th>AIRLINE</th>\n",
       "      <th>DEP_T</th>\n",
       "      <th>DEP</th>\n",
       "      <th>DEP_LAT</th>\n",
       "      <th>...</th>\n",
       "      <th>WND_SPD_DEP</th>\n",
       "      <th>ARR_T</th>\n",
       "      <th>ARR_DELAY</th>\n",
       "      <th>ARR</th>\n",
       "      <th>ARR_LAT</th>\n",
       "      <th>ARR_LON</th>\n",
       "      <th>ARR_W</th>\n",
       "      <th>MEAN_TEMP_ARR</th>\n",
       "      <th>MEAN_VIS_ARR</th>\n",
       "      <th>WND_SPD_ARR</th>\n",
       "    </tr>\n",
       "  </thead>\n",
       "  <tbody>\n",
       "    <tr>\n",
       "      <th>0</th>\n",
       "      <td>2002-06-01</td>\n",
       "      <td>2002</td>\n",
       "      <td>6</td>\n",
       "      <td>1</td>\n",
       "      <td>7</td>\n",
       "      <td>Delta Air Lines Inc.: DL</td>\n",
       "      <td>DL</td>\n",
       "      <td>820</td>\n",
       "      <td>ATL</td>\n",
       "      <td>33.63</td>\n",
       "      <td>...</td>\n",
       "      <td>6.9</td>\n",
       "      <td>1020</td>\n",
       "      <td>-19.0</td>\n",
       "      <td>PDX</td>\n",
       "      <td>45.58</td>\n",
       "      <td>-122.59</td>\n",
       "      <td>PORTLAND</td>\n",
       "      <td>61.9</td>\n",
       "      <td>9.9</td>\n",
       "      <td>7.7</td>\n",
       "    </tr>\n",
       "    <tr>\n",
       "      <th>1</th>\n",
       "      <td>2002-06-01</td>\n",
       "      <td>2002</td>\n",
       "      <td>6</td>\n",
       "      <td>1</td>\n",
       "      <td>7</td>\n",
       "      <td>Delta Air Lines Inc.: DL</td>\n",
       "      <td>DL</td>\n",
       "      <td>1915</td>\n",
       "      <td>ATL</td>\n",
       "      <td>33.63</td>\n",
       "      <td>...</td>\n",
       "      <td>6.9</td>\n",
       "      <td>2113</td>\n",
       "      <td>-12.0</td>\n",
       "      <td>PDX</td>\n",
       "      <td>45.58</td>\n",
       "      <td>-122.59</td>\n",
       "      <td>PORTLAND</td>\n",
       "      <td>61.9</td>\n",
       "      <td>9.9</td>\n",
       "      <td>7.7</td>\n",
       "    </tr>\n",
       "    <tr>\n",
       "      <th>2</th>\n",
       "      <td>2002-06-01</td>\n",
       "      <td>2002</td>\n",
       "      <td>6</td>\n",
       "      <td>1</td>\n",
       "      <td>7</td>\n",
       "      <td>Delta Air Lines Inc.: DL</td>\n",
       "      <td>DL</td>\n",
       "      <td>830</td>\n",
       "      <td>ATL</td>\n",
       "      <td>33.63</td>\n",
       "      <td>...</td>\n",
       "      <td>6.9</td>\n",
       "      <td>936</td>\n",
       "      <td>10.0</td>\n",
       "      <td>CHS</td>\n",
       "      <td>32.89</td>\n",
       "      <td>-80.04</td>\n",
       "      <td>CHARLESTON</td>\n",
       "      <td>79.5</td>\n",
       "      <td>9.3</td>\n",
       "      <td>5.8</td>\n",
       "    </tr>\n",
       "    <tr>\n",
       "      <th>3</th>\n",
       "      <td>2002-06-01</td>\n",
       "      <td>2002</td>\n",
       "      <td>6</td>\n",
       "      <td>1</td>\n",
       "      <td>7</td>\n",
       "      <td>Delta Air Lines Inc.: DL</td>\n",
       "      <td>DL</td>\n",
       "      <td>1125</td>\n",
       "      <td>ATL</td>\n",
       "      <td>33.63</td>\n",
       "      <td>...</td>\n",
       "      <td>6.9</td>\n",
       "      <td>1229</td>\n",
       "      <td>14.0</td>\n",
       "      <td>CHS</td>\n",
       "      <td>32.89</td>\n",
       "      <td>-80.04</td>\n",
       "      <td>CHARLESTON</td>\n",
       "      <td>79.5</td>\n",
       "      <td>9.3</td>\n",
       "      <td>5.8</td>\n",
       "    </tr>\n",
       "    <tr>\n",
       "      <th>4</th>\n",
       "      <td>2002-06-01</td>\n",
       "      <td>2002</td>\n",
       "      <td>6</td>\n",
       "      <td>1</td>\n",
       "      <td>7</td>\n",
       "      <td>Delta Air Lines Inc.: DL</td>\n",
       "      <td>DL</td>\n",
       "      <td>1425</td>\n",
       "      <td>ATL</td>\n",
       "      <td>33.63</td>\n",
       "      <td>...</td>\n",
       "      <td>6.9</td>\n",
       "      <td>1528</td>\n",
       "      <td>7.0</td>\n",
       "      <td>CHS</td>\n",
       "      <td>32.89</td>\n",
       "      <td>-80.04</td>\n",
       "      <td>CHARLESTON</td>\n",
       "      <td>79.5</td>\n",
       "      <td>9.3</td>\n",
       "      <td>5.8</td>\n",
       "    </tr>\n",
       "  </tbody>\n",
       "</table>\n",
       "<p>5 rows × 25 columns</p>\n",
       "</div>"
      ],
      "text/plain": [
       "         DATE  YEAR  MONTH  DAY  DEP_DOW              AIRLINE_NAME AIRLINE  \\\n",
       "0  2002-06-01  2002      6    1        7  Delta Air Lines Inc.: DL      DL   \n",
       "1  2002-06-01  2002      6    1        7  Delta Air Lines Inc.: DL      DL   \n",
       "2  2002-06-01  2002      6    1        7  Delta Air Lines Inc.: DL      DL   \n",
       "3  2002-06-01  2002      6    1        7  Delta Air Lines Inc.: DL      DL   \n",
       "4  2002-06-01  2002      6    1        7  Delta Air Lines Inc.: DL      DL   \n",
       "\n",
       "   DEP_T  DEP  DEP_LAT     ...       WND_SPD_DEP  ARR_T ARR_DELAY  ARR  \\\n",
       "0    820  ATL    33.63     ...               6.9   1020     -19.0  PDX   \n",
       "1   1915  ATL    33.63     ...               6.9   2113     -12.0  PDX   \n",
       "2    830  ATL    33.63     ...               6.9    936      10.0  CHS   \n",
       "3   1125  ATL    33.63     ...               6.9   1229      14.0  CHS   \n",
       "4   1425  ATL    33.63     ...               6.9   1528       7.0  CHS   \n",
       "\n",
       "   ARR_LAT  ARR_LON       ARR_W  MEAN_TEMP_ARR MEAN_VIS_ARR  WND_SPD_ARR  \n",
       "0    45.58  -122.59    PORTLAND           61.9          9.9          7.7  \n",
       "1    45.58  -122.59    PORTLAND           61.9          9.9          7.7  \n",
       "2    32.89   -80.04  CHARLESTON           79.5          9.3          5.8  \n",
       "3    32.89   -80.04  CHARLESTON           79.5          9.3          5.8  \n",
       "4    32.89   -80.04  CHARLESTON           79.5          9.3          5.8  \n",
       "\n",
       "[5 rows x 25 columns]"
      ]
     },
     "execution_count": 14,
     "metadata": {},
     "output_type": "execute_result"
    }
   ],
   "source": [
    "flights.head()"
   ]
  },
  {
   "cell_type": "code",
   "execution_count": null,
   "metadata": {},
   "outputs": [],
   "source": [
    "flights['MEAN_VIS_DEPTH']"
   ]
  },
  {
   "cell_type": "code",
   "execution_count": 5,
   "metadata": {},
   "outputs": [
    {
     "data": {
      "text/plain": [
       "Index([u'DATE', u'YEAR', u'MONTH', u'DAY', u'DEP_DOW', u'AIRLINE_NAME',\n",
       "       u'AIRLINE', u'DEP_T', u'DEP', u'DEP_LAT', u'DEP_LON', u'DEP_DELAY',\n",
       "       u'DEP_W', u'MEAN_TEMP_DEP', u'MEAN_VIS_DEP', u'WND_SPD_DEP', u'ARR_T',\n",
       "       u'ARR_DELAY', u'ARR', u'ARR_LAT', u'ARR_LON', u'ARR_W',\n",
       "       u'MEAN_TEMP_ARR', u'MEAN_VIS_ARR', u'WND_SPD_ARR'],\n",
       "      dtype='object')"
      ]
     },
     "execution_count": 5,
     "metadata": {},
     "output_type": "execute_result"
    }
   ],
   "source": [
    "flights.columns"
   ]
  },
  {
   "cell_type": "code",
   "execution_count": 16,
   "metadata": {},
   "outputs": [
    {
     "data": {
      "text/plain": [
       "<matplotlib.axes._subplots.AxesSubplot at 0x7f2533592a10>"
      ]
     },
     "execution_count": 16,
     "metadata": {},
     "output_type": "execute_result"
    },
    {
     "data": {
      "image/png": "[encoded data removed]",
      "text/plain": [
       "<Figure size 432x288 with 1 Axes>"
      ]
     },
     "metadata": {
      "needs_background": "light"
     },
     "output_type": "display_data"
    }
   ],
   "source": [
    "import seaborn as sns\n",
    "sns.boxplot(x='DEP_DOW', y='DEP_DELAY', data=flights)"
   ]
  },
  {
   "cell_type": "code",
   "execution_count": 22,
   "metadata": {},
   "outputs": [
    {
     "data": {
      "text/plain": [
       "<matplotlib.axes._subplots.AxesSubplot at 0x7f25108a9d50>"
      ]
     },
     "execution_count": 22,
     "metadata": {},
     "output_type": "execute_result"
    },
    {
     "data": {
      "image/png": "[encoded data removed]",
      "text/plain": [
       "<Figure size 432x288 with 1 Axes>"
      ]
     },
     "metadata": {
      "needs_background": "light"
     },
     "output_type": "display_data"
    }
   ],
   "source": [
    "sns.distplot(flights[flights['DEP_DELAY'] < 60]['DEP_DELAY'], kde=False)"
   ]
  },
  {
   "cell_type": "code",
   "execution_count": 29,
   "metadata": {},
   "outputs": [],
   "source": [
    "late_ones=flights[flights['DEP_DELAY'] > 200]"
   ]
  },
  {
   "cell_type": "code",
   "execution_count": 33,
   "metadata": {},
   "outputs": [
    {
     "data": {
      "image/png": "[encoded data removed]",
      "text/plain": [
       "<Figure size 446.375x360 with 1 Axes>"
      ]
     },
     "metadata": {
      "needs_background": "light"
     },
     "output_type": "display_data"
    }
   ],
   "source": [
    "sns.relplot(x='WND_SPD_DEP', y='DEP_DELAY', hue='DEP_DOW', data=late_ones);"
   ]
  },
  {
   "cell_type": "code",
   "execution_count": 26,
   "metadata": {},
   "outputs": [
    {
     "data": {
      "text/html": [
       "<div>\n",
       "<style scoped>\n",
       "    .dataframe tbody tr th:only-of-type {\n",
       "        vertical-align: middle;\n",
       "    }\n",
       "\n",
       "    .dataframe tbody tr th {\n",
       "        vertical-align: top;\n",
       "    }\n",
       "\n",
       "    .dataframe thead th {\n",
       "        text-align: right;\n",
       "    }\n",
       "</style>\n",
       "<table border=\"1\" class=\"dataframe\">\n",
       "  <thead>\n",
       "    <tr style=\"text-align: right;\">\n",
       "      <th></th>\n",
       "      <th>MEAN_VIS_DEP</th>\n",
       "      <th>DEP_DELAY</th>\n",
       "    </tr>\n",
       "  </thead>\n",
       "  <tbody>\n",
       "    <tr>\n",
       "      <th>count</th>\n",
       "      <td>298329.000000</td>\n",
       "      <td>298329.000000</td>\n",
       "    </tr>\n",
       "    <tr>\n",
       "      <th>mean</th>\n",
       "      <td>9.022412</td>\n",
       "      <td>15.331969</td>\n",
       "    </tr>\n",
       "    <tr>\n",
       "      <th>std</th>\n",
       "      <td>1.176153</td>\n",
       "      <td>36.612625</td>\n",
       "    </tr>\n",
       "    <tr>\n",
       "      <th>min</th>\n",
       "      <td>3.600000</td>\n",
       "      <td>-54.000000</td>\n",
       "    </tr>\n",
       "    <tr>\n",
       "      <th>25%</th>\n",
       "      <td>8.500000</td>\n",
       "      <td>-2.000000</td>\n",
       "    </tr>\n",
       "    <tr>\n",
       "      <th>50%</th>\n",
       "      <td>9.500000</td>\n",
       "      <td>1.000000</td>\n",
       "    </tr>\n",
       "    <tr>\n",
       "      <th>75%</th>\n",
       "      <td>9.900000</td>\n",
       "      <td>16.000000</td>\n",
       "    </tr>\n",
       "    <tr>\n",
       "      <th>max</th>\n",
       "      <td>10.000000</td>\n",
       "      <td>955.000000</td>\n",
       "    </tr>\n",
       "  </tbody>\n",
       "</table>\n",
       "</div>"
      ],
      "text/plain": [
       "        MEAN_VIS_DEP      DEP_DELAY\n",
       "count  298329.000000  298329.000000\n",
       "mean        9.022412      15.331969\n",
       "std         1.176153      36.612625\n",
       "min         3.600000     -54.000000\n",
       "25%         8.500000      -2.000000\n",
       "50%         9.500000       1.000000\n",
       "75%         9.900000      16.000000\n",
       "max        10.000000     955.000000"
      ]
     },
     "execution_count": 26,
     "metadata": {},
     "output_type": "execute_result"
    }
   ],
   "source": [
    "flights[['MEAN_VIS_DEP', 'DEP_DELAY']].describe()"
   ]
  },
  {
   "cell_type": "code",
   "execution_count": 12,
   "metadata": {},
   "outputs": [
    {
     "data": {
      "text/html": [
       "<div>\n",
       "<style scoped>\n",
       "    .dataframe tbody tr th:only-of-type {\n",
       "        vertical-align: middle;\n",
       "    }\n",
       "\n",
       "    .dataframe tbody tr th {\n",
       "        vertical-align: top;\n",
       "    }\n",
       "\n",
       "    .dataframe thead th {\n",
       "        text-align: right;\n",
       "    }\n",
       "</style>\n",
       "<table border=\"1\" class=\"dataframe\">\n",
       "  <thead>\n",
       "    <tr style=\"text-align: right;\">\n",
       "      <th></th>\n",
       "      <th>f0_</th>\n",
       "    </tr>\n",
       "  </thead>\n",
       "  <tbody>\n",
       "    <tr>\n",
       "      <th>0</th>\n",
       "      <td>[-54.0, -6.0, -5.0, -4.0, -3.0, -2.0, -2.0, -1...</td>\n",
       "    </tr>\n",
       "  </tbody>\n",
       "</table>\n",
       "</div>"
      ],
      "text/plain": [
       "                                                 f0_\n",
       "0  [-54.0, -6.0, -5.0, -4.0, -3.0, -2.0, -2.0, -1..."
      ]
     },
     "execution_count": 12,
     "metadata": {},
     "output_type": "execute_result"
    }
   ],
   "source": [
    "%%bigquery res\n",
    "select approx_quantiles(dep_delay, 20) from examples.ATL_JUNE_SIGNATURE"
   ]
  },
  {
   "cell_type": "code",
   "execution_count": 13,
   "metadata": {},
   "outputs": [
    {
     "data": {
      "text/plain": [
       "[-54.0,\n",
       " -6.0,\n",
       " -5.0,\n",
       " -4.0,\n",
       " -3.0,\n",
       " -2.0,\n",
       " -2.0,\n",
       " -1.0,\n",
       " 0.0,\n",
       " 0.0,\n",
       " 1.0,\n",
       " 2.0,\n",
       " 4.0,\n",
       " 7.0,\n",
       " 11.0,\n",
       " 16.0,\n",
       " 23.0,\n",
       " 34.0,\n",
       " 51.0,\n",
       " 88.0,\n",
       " 955.0]"
      ]
     },
     "execution_count": 13,
     "metadata": {},
     "output_type": "execute_result"
    }
   ],
   "source": [
    "res['f0_'].iloc[0]"
   ]
  },
  {
   "cell_type": "code",
   "execution_count": null,
   "metadata": {},
   "outputs": [],
   "source": []
  }
 ],
 "metadata": {
  "kernelspec": {
   "display_name": "Python 2",
   "language": "python",
   "name": "python2"
  },
  "language_info": {
   "codemirror_mode": {
    "name": "ipython",
    "version": 2
   },
   "file_extension": ".py",
   "mimetype": "text/x-python",
   "name": "python",
   "nbconvert_exporter": "python",
   "pygments_lexer": "ipython2",
   "version": "2.7.13"
  }
 },
 "nbformat": 4,
 "nbformat_minor": 2
}
