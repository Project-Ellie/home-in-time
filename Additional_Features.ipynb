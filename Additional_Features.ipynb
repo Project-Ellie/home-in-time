{
 "cells": [
  {
   "cell_type": "markdown",
   "metadata": {},
   "source": [
    "### Additional Features"
   ]
  },
  {
   "cell_type": "markdown",
   "metadata": {},
   "source": [
    "#### Holidays\n",
    "Throughout the year, what are the days with the highest traffic? Can we identify and categorize those days?\n",
    "Special days are those days that significantly exceed the number of flights that are usually served in average on that weekday in that month. Compare with heuristics. Check avg/max delays ahead and after typical holidays."
   ]
  },
  {
   "cell_type": "markdown",
   "metadata": {},
   "source": [
    "#### Airport size (dep and arr)\n",
    "We take the average number of flights on a typical day as a measture of the size. Does that correlate with delays somehow?"
   ]
  },
  {
   "cell_type": "markdown",
   "metadata": {},
   "source": [
    "#### Airport peek times\n",
    "Are there peek times of avg/may dep delays? We know, ATL accumulates max/avg dep delay as it gets later on the day. Does it correlate via the avg number of flights or is it really accumulating?"
   ]
  },
  {
   "cell_type": "markdown",
   "metadata": {},
   "source": [
    "#### Wheather conditions (dep and arr)\n",
    "Is there any correlation with weather conditions? Gusts and visibility may make sense to look at."
   ]
  },
  {
   "cell_type": "code",
   "execution_count": null,
   "metadata": {},
   "outputs": [],
   "source": []
  }
 ],
 "metadata": {
  "kernelspec": {
   "display_name": "Python 2",
   "language": "python",
   "name": "python2"
  },
  "language_info": {
   "codemirror_mode": {
    "name": "ipython",
    "version": 2
   },
   "file_extension": ".py",
   "mimetype": "text/x-python",
   "name": "python",
   "nbconvert_exporter": "python",
   "pygments_lexer": "ipython2",
   "version": "2.7.13"
  }
 },
 "nbformat": 4,
 "nbformat_minor": 2
}
