{
 "cells": [
  {
   "cell_type": "code",
   "execution_count": 29,
   "metadata": {},
   "outputs": [],
   "source": [
    "import apache_beam as beam\n",
    "import tensorflow_transform as tft\n",
    "from apache_beam.options.pipeline_options import PipelineOptions\n",
    "from model_config import ORDERED_TRAINING_COLUMNS, TRAINING_METADATA\n",
    "import snappy"
   ]
  },
  {
   "cell_type": "code",
   "execution_count": 28,
   "metadata": {},
   "outputs": [],
   "source": [
    "with beam.Pipeline('DirectRunner', PipelineOptions()) as p:\n",
    "\n",
    "    tfr_encoder = tft.coders.ExampleProtoCoder(TRAINING_METADATA.schema)            \n",
    "    csv_encoder = tft.coders.CsvCoder(ORDERED_TRAINING_COLUMNS, TRAINING_METADATA.schema)    \n",
    "\n",
    "    _ = (p \n",
    "         | 'read_from_csv' >> beam.io.ReadFromText(file_pattern='../testdata/test.csv', coder=csv_encoder)\n",
    "         #| 'write_to_csv' >> beam.io.WriteToText(file_path_prefix='./out.csv', coder=csv_encoder)\n",
    "         | 'write_to_tfr' >> beam.io.WriteToTFRecord(coder=tfr_encoder, file_path_prefix='./out.tfr')\n",
    "        )\n"
   ]
  },
  {
   "cell_type": "code",
   "execution_count": null,
   "metadata": {},
   "outputs": [],
   "source": []
  }
 ],
 "metadata": {
  "kernelspec": {
   "display_name": "Python 2",
   "language": "python",
   "name": "python2"
  },
  "language_info": {
   "codemirror_mode": {
    "name": "ipython",
    "version": 2
   },
   "file_extension": ".py",
   "mimetype": "text/x-python",
   "name": "python",
   "nbconvert_exporter": "python",
   "pygments_lexer": "ipython2",
   "version": "2.7.13"
  }
 },
 "nbformat": 4,
 "nbformat_minor": 2
}
